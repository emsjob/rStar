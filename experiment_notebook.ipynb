{
  "nbformat": 4,
  "nbformat_minor": 0,
  "metadata": {
    "colab": {
      "provenance": [],
      "gpuType": "T4"
    },
    "kernelspec": {
      "name": "python3",
      "display_name": "Python 3"
    },
    "language_info": {
      "name": "python"
    },
    "accelerator": "GPU"
  },
  "cells": [
    {
      "cell_type": "code",
      "source": [
        "%%capture\n",
        "!git clone https://github.com/emsjob/rStar.git\n",
        "%cd rStar"
      ],
      "metadata": {
        "id": "yL9Y133kd5fb"
      },
      "execution_count": 1,
      "outputs": []
    },
    {
      "cell_type": "code",
      "execution_count": 2,
      "metadata": {
        "id": "hxOztSh6dnaW"
      },
      "outputs": [],
      "source": [
        "%%capture\n",
        "!pip install -r requirements.txt"
      ]
    },
    {
      "cell_type": "code",
      "source": [
        "import os\n",
        "import torch\n",
        "from transformers import AutoModelForCausalLM, AutoTokenizer\n",
        "import subprocess"
      ],
      "metadata": {
        "id": "D8-o-FSvezAd"
      },
      "execution_count": 13,
      "outputs": []
    },
    {
      "cell_type": "code",
      "source": [
        "os.environ[\"CUDA_VISIBLE_DEVICES\"] = \"0\"\n",
        "\n",
        "args = [\n",
        "    \"python3\", \"run_src/do_generate.py\",\n",
        "    \"--dataset_name\", \"GSM8K\",\n",
        "    \"--test_json_filename\", \"test_sampled\",\n",
        "    \"--model_ckpt\", \"microsoft/Phi-3-mini-4k-instruct\",\n",
        "    \"--note\", \"default\",\n",
        "    \"--num_rollouts\", \"8\"\n",
        "]"
      ],
      "metadata": {
        "id": "UWt85lqje-S-"
      },
      "execution_count": 16,
      "outputs": []
    },
    {
      "cell_type": "code",
      "source": [
        "subprocess.run(args)"
      ],
      "metadata": {
        "colab": {
          "base_uri": "https://localhost:8080/"
        },
        "id": "yhxQEEHofiRe",
        "outputId": "e747af18-03f3-458c-acac-7ce143b8e2bf"
      },
      "execution_count": 17,
      "outputs": [
        {
          "output_type": "execute_result",
          "data": {
            "text/plain": [
              "CompletedProcess(args=['python3', 'run_src/do_generate.py', '--dataset_name', 'GSM8K', '--test_json_filename', 'test_sampled', '--model_ckpt', 'microsoft/Phi-3-mini-4k-instruct', '--note', 'default', '--num_rollouts', '8'], returncode=0)"
            ]
          },
          "metadata": {},
          "execution_count": 17
        }
      ]
    },
    {
      "cell_type": "code",
      "source": [
        "eval_args = [\n",
        "    \"python3\", \"eval_src/do_eval.py\",\n",
        "    \"--dataset_name\", \"GSM8K\",\n",
        "    \"--exp_dir_path\", \"/eval_output\"\n",
        "]"
      ],
      "metadata": {
        "id": "LKzEtgR2gPMZ"
      },
      "execution_count": 18,
      "outputs": []
    },
    {
      "cell_type": "code",
      "source": [
        "subprocess.run(eval_args)"
      ],
      "metadata": {
        "colab": {
          "base_uri": "https://localhost:8080/"
        },
        "id": "9SApMR2Aq-NW",
        "outputId": "ceee3049-34c6-434d-86e3-903e08fc38c6"
      },
      "execution_count": 19,
      "outputs": [
        {
          "output_type": "execute_result",
          "data": {
            "text/plain": [
              "CompletedProcess(args=['python3', 'eval_src/do_eval.py', '--dataset_name', 'GSM8K', '--exp_dir_path', '/eval_output'], returncode=1)"
            ]
          },
          "metadata": {},
          "execution_count": 19
        }
      ]
    },
    {
      "cell_type": "code",
      "source": [],
      "metadata": {
        "id": "PeWq6PtUrAjN"
      },
      "execution_count": null,
      "outputs": []
    }
  ]
}